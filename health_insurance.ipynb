{
  "cells": [
    {
      "cell_type": "markdown",
      "metadata": {
        "id": "view-in-github",
        "colab_type": "text"
      },
      "source": [
        "<a href=\"https://colab.research.google.com/gist/Larinwa/9a7098908f4079aae044fb5d43092842/linear-regression-assignment.ipynb\" target=\"_parent\"><img src=\"https://colab.research.google.com/assets/colab-badge.svg\" alt=\"Open In Colab\"/></a>"
      ]
    },
    {
      "cell_type": "markdown",
      "id": "4aa2ec8d",
      "metadata": {
        "id": "4aa2ec8d"
      },
      "source": [
        "### STEPS:\n",
        "\n",
        "#### STEP 1: Data Loading and  Cleaning\n",
        "1. Import the needed libaries\n",
        "2. Load dataset\n",
        "3. Inspect dataset:\n",
        "4. Ecncode the categorical data\n",
        "\n",
        "#### STEP 2: Split Data for Training and Testing\n",
        "* Training sets (80%)\n",
        "* Testing sets (20%)\n",
        "#### STEP 3: Build Linear regression Model:\n",
        "* Create the model\n",
        "* Fit the model on the training data\n",
        "* Make Predictions\n",
        "* Evaluate model\n",
        "\n",
        "#### STEP 4: Conclusion"
      ]
    },
    {
      "cell_type": "markdown",
      "id": "9fa2f0a8",
      "metadata": {
        "id": "9fa2f0a8"
      },
      "source": [
        "#### STEP 1: Data Loading and  Cleaning"
      ]
    },
    {
      "cell_type": "code",
      "execution_count": null,
      "id": "404bb198",
      "metadata": {
        "id": "404bb198"
      },
      "outputs": [],
      "source": [
        "# The needed libary\n",
        "\n",
        "import pandas as pd\n",
        "import numpy as np\n",
        "\n",
        "import seaborn as sns\n",
        "import matplotlib.pyplot as plt\n",
        "import plotly.express as px\n",
        "\n",
        "#Libaries for\n",
        "from sklearn.linear_model import LinearRegression\n",
        "from sklearn.model_selection import train_test_split\n",
        "from sklearn.preprocessing import StandardScaler, LabelEncoder, OneHotEncoder\n",
        "from sklearn. metrics import mean_squared_error, r2_score #This is for evaluation"
      ]
    },
    {
      "cell_type": "code",
      "execution_count": null,
      "id": "5bbc187f",
      "metadata": {
        "id": "5bbc187f"
      },
      "outputs": [],
      "source": [
        "insurance_df = pd.read_csv('insurance.csv')"
      ]
    },
    {
      "cell_type": "code",
      "execution_count": null,
      "id": "d9f744ed",
      "metadata": {
        "id": "d9f744ed",
        "outputId": "2b63a9a2-02b1-4140-9b37-82d1b4b8f788"
      },
      "outputs": [
        {
          "data": {
            "text/html": [
              "<div>\n",
              "<style scoped>\n",
              "    .dataframe tbody tr th:only-of-type {\n",
              "        vertical-align: middle;\n",
              "    }\n",
              "\n",
              "    .dataframe tbody tr th {\n",
              "        vertical-align: top;\n",
              "    }\n",
              "\n",
              "    .dataframe thead th {\n",
              "        text-align: right;\n",
              "    }\n",
              "</style>\n",
              "<table border=\"1\" class=\"dataframe\">\n",
              "  <thead>\n",
              "    <tr style=\"text-align: right;\">\n",
              "      <th></th>\n",
              "      <th>age</th>\n",
              "      <th>sex</th>\n",
              "      <th>bmi</th>\n",
              "      <th>children</th>\n",
              "      <th>smoker</th>\n",
              "      <th>region</th>\n",
              "      <th>charges</th>\n",
              "    </tr>\n",
              "  </thead>\n",
              "  <tbody>\n",
              "    <tr>\n",
              "      <th>0</th>\n",
              "      <td>19</td>\n",
              "      <td>female</td>\n",
              "      <td>27.900</td>\n",
              "      <td>0</td>\n",
              "      <td>yes</td>\n",
              "      <td>southwest</td>\n",
              "      <td>16884.92400</td>\n",
              "    </tr>\n",
              "    <tr>\n",
              "      <th>1</th>\n",
              "      <td>18</td>\n",
              "      <td>male</td>\n",
              "      <td>33.770</td>\n",
              "      <td>1</td>\n",
              "      <td>no</td>\n",
              "      <td>southeast</td>\n",
              "      <td>1725.55230</td>\n",
              "    </tr>\n",
              "    <tr>\n",
              "      <th>2</th>\n",
              "      <td>28</td>\n",
              "      <td>male</td>\n",
              "      <td>33.000</td>\n",
              "      <td>3</td>\n",
              "      <td>no</td>\n",
              "      <td>southeast</td>\n",
              "      <td>4449.46200</td>\n",
              "    </tr>\n",
              "    <tr>\n",
              "      <th>3</th>\n",
              "      <td>33</td>\n",
              "      <td>male</td>\n",
              "      <td>22.705</td>\n",
              "      <td>0</td>\n",
              "      <td>no</td>\n",
              "      <td>northwest</td>\n",
              "      <td>21984.47061</td>\n",
              "    </tr>\n",
              "    <tr>\n",
              "      <th>4</th>\n",
              "      <td>32</td>\n",
              "      <td>male</td>\n",
              "      <td>28.880</td>\n",
              "      <td>0</td>\n",
              "      <td>no</td>\n",
              "      <td>northwest</td>\n",
              "      <td>3866.85520</td>\n",
              "    </tr>\n",
              "    <tr>\n",
              "      <th>...</th>\n",
              "      <td>...</td>\n",
              "      <td>...</td>\n",
              "      <td>...</td>\n",
              "      <td>...</td>\n",
              "      <td>...</td>\n",
              "      <td>...</td>\n",
              "      <td>...</td>\n",
              "    </tr>\n",
              "    <tr>\n",
              "      <th>1333</th>\n",
              "      <td>50</td>\n",
              "      <td>male</td>\n",
              "      <td>30.970</td>\n",
              "      <td>3</td>\n",
              "      <td>no</td>\n",
              "      <td>northwest</td>\n",
              "      <td>10600.54830</td>\n",
              "    </tr>\n",
              "    <tr>\n",
              "      <th>1334</th>\n",
              "      <td>18</td>\n",
              "      <td>female</td>\n",
              "      <td>31.920</td>\n",
              "      <td>0</td>\n",
              "      <td>no</td>\n",
              "      <td>northeast</td>\n",
              "      <td>2205.98080</td>\n",
              "    </tr>\n",
              "    <tr>\n",
              "      <th>1335</th>\n",
              "      <td>18</td>\n",
              "      <td>female</td>\n",
              "      <td>36.850</td>\n",
              "      <td>0</td>\n",
              "      <td>no</td>\n",
              "      <td>southeast</td>\n",
              "      <td>1629.83350</td>\n",
              "    </tr>\n",
              "    <tr>\n",
              "      <th>1336</th>\n",
              "      <td>21</td>\n",
              "      <td>female</td>\n",
              "      <td>25.800</td>\n",
              "      <td>0</td>\n",
              "      <td>no</td>\n",
              "      <td>southwest</td>\n",
              "      <td>2007.94500</td>\n",
              "    </tr>\n",
              "    <tr>\n",
              "      <th>1337</th>\n",
              "      <td>61</td>\n",
              "      <td>female</td>\n",
              "      <td>29.070</td>\n",
              "      <td>0</td>\n",
              "      <td>yes</td>\n",
              "      <td>northwest</td>\n",
              "      <td>29141.36030</td>\n",
              "    </tr>\n",
              "  </tbody>\n",
              "</table>\n",
              "<p>1338 rows × 7 columns</p>\n",
              "</div>"
            ],
            "text/plain": [
              "      age     sex     bmi  children smoker     region      charges\n",
              "0      19  female  27.900         0    yes  southwest  16884.92400\n",
              "1      18    male  33.770         1     no  southeast   1725.55230\n",
              "2      28    male  33.000         3     no  southeast   4449.46200\n",
              "3      33    male  22.705         0     no  northwest  21984.47061\n",
              "4      32    male  28.880         0     no  northwest   3866.85520\n",
              "...   ...     ...     ...       ...    ...        ...          ...\n",
              "1333   50    male  30.970         3     no  northwest  10600.54830\n",
              "1334   18  female  31.920         0     no  northeast   2205.98080\n",
              "1335   18  female  36.850         0     no  southeast   1629.83350\n",
              "1336   21  female  25.800         0     no  southwest   2007.94500\n",
              "1337   61  female  29.070         0    yes  northwest  29141.36030\n",
              "\n",
              "[1338 rows x 7 columns]"
            ]
          },
          "execution_count": 18,
          "metadata": {},
          "output_type": "execute_result"
        }
      ],
      "source": [
        "insurance_df"
      ]
    },
    {
      "cell_type": "code",
      "execution_count": null,
      "id": "5eba13a2",
      "metadata": {
        "id": "5eba13a2",
        "outputId": "de2e958d-a3e3-4bca-e390-5f503e46d3cd"
      },
      "outputs": [
        {
          "data": {
            "text/plain": [
              "age         0\n",
              "sex         0\n",
              "bmi         0\n",
              "children    0\n",
              "smoker      0\n",
              "region      0\n",
              "charges     0\n",
              "dtype: int64"
            ]
          },
          "execution_count": 51,
          "metadata": {},
          "output_type": "execute_result"
        }
      ],
      "source": [
        "insurance_df.isnull().sum()"
      ]
    },
    {
      "cell_type": "code",
      "execution_count": null,
      "id": "75b24fe3",
      "metadata": {
        "id": "75b24fe3",
        "outputId": "88f80676-27ef-4333-e6fb-fcd385b2d6ab"
      },
      "outputs": [
        {
          "name": "stdout",
          "output_type": "stream",
          "text": [
            "<class 'pandas.core.frame.DataFrame'>\n",
            "RangeIndex: 1338 entries, 0 to 1337\n",
            "Data columns (total 7 columns):\n",
            " #   Column    Non-Null Count  Dtype  \n",
            "---  ------    --------------  -----  \n",
            " 0   age       1338 non-null   int64  \n",
            " 1   sex       1338 non-null   object \n",
            " 2   bmi       1338 non-null   float64\n",
            " 3   children  1338 non-null   int64  \n",
            " 4   smoker    1338 non-null   object \n",
            " 5   region    1338 non-null   object \n",
            " 6   charges   1338 non-null   float64\n",
            "dtypes: float64(2), int64(2), object(3)\n",
            "memory usage: 73.3+ KB\n"
          ]
        }
      ],
      "source": [
        "insurance_df.info()"
      ]
    },
    {
      "cell_type": "markdown",
      "id": "be91ff25",
      "metadata": {
        "id": "be91ff25"
      },
      "source": [
        "#### Note:\n",
        "The data inspection revealed what we have in our data and showed that there are no missing values. This means there won't be a need to drop columns due to missingness. However, there is a presence of categorical variables in the dataset. To serve the purpose of modeling, there will be a need to convert those data to numerical variables through encoding."
      ]
    },
    {
      "cell_type": "code",
      "execution_count": null,
      "id": "b68cc4e9",
      "metadata": {
        "id": "b68cc4e9",
        "outputId": "1cfaa09a-2408-4422-996f-4d643b979ce4"
      },
      "outputs": [
        {
          "data": {
            "text/plain": [
              "Index(['age', 'sex', 'bmi', 'children', 'smoker', 'region', 'charges'], dtype='object')"
            ]
          },
          "execution_count": 53,
          "metadata": {},
          "output_type": "execute_result"
        }
      ],
      "source": [
        "insurance_df.columns"
      ]
    },
    {
      "cell_type": "code",
      "execution_count": null,
      "id": "e0e2a3ad",
      "metadata": {
        "id": "e0e2a3ad",
        "outputId": "9609b814-cc7e-407a-f849-31c3ea9f03dd"
      },
      "outputs": [
        {
          "data": {
            "image/png": "[encoded data removed]",
            "text/plain": [
              "<Figure size 2200x1000 with 3 Axes>"
            ]
          },
          "metadata": {},
          "output_type": "display_data"
        }
      ],
      "source": [
        "sns.set_style('ticks')\n",
        "sns.set_palette('husl')\n",
        "fig, axes = plt.subplots(nrows= 1, ncols= 3, figsize = (22, 10))\n",
        "columns = ['sex','smoker','region']\n",
        "\n",
        "for i in range(3):\n",
        "    sns.countplot(data=insurance_df, x=columns[i], ax = axes[i])\n",
        "    axes[i].set_title(f'This is {columns[i]}')"
      ]
    },
    {
      "cell_type": "code",
      "execution_count": null,
      "id": "0655d481",
      "metadata": {
        "id": "0655d481"
      },
      "outputs": [],
      "source": [
        "#Encoding the categorical data\n",
        "#Onehotencodng\n",
        "cate_cols = ['sex','smoker', 'region']\n",
        "tempo_df=pd.get_dummies(insurance_df[cate_cols], dtype=float)\n",
        "insurance_df.drop(columns = cate_cols, inplace = True)\n",
        "insurance_df = pd.concat([insurance_df, tempo_df], axis = 1)"
      ]
    },
    {
      "cell_type": "code",
      "execution_count": null,
      "id": "b7fac1c3",
      "metadata": {
        "id": "b7fac1c3",
        "outputId": "ef6b2256-a07a-415e-debe-4443529ea3b2"
      },
      "outputs": [
        {
          "data": {
            "text/html": [
              "<div>\n",
              "<style scoped>\n",
              "    .dataframe tbody tr th:only-of-type {\n",
              "        vertical-align: middle;\n",
              "    }\n",
              "\n",
              "    .dataframe tbody tr th {\n",
              "        vertical-align: top;\n",
              "    }\n",
              "\n",
              "    .dataframe thead th {\n",
              "        text-align: right;\n",
              "    }\n",
              "</style>\n",
              "<table border=\"1\" class=\"dataframe\">\n",
              "  <thead>\n",
              "    <tr style=\"text-align: right;\">\n",
              "      <th></th>\n",
              "      <th>age</th>\n",
              "      <th>bmi</th>\n",
              "      <th>children</th>\n",
              "      <th>charges</th>\n",
              "      <th>sex_female</th>\n",
              "      <th>sex_male</th>\n",
              "      <th>smoker_no</th>\n",
              "      <th>smoker_yes</th>\n",
              "      <th>region_northeast</th>\n",
              "      <th>region_northwest</th>\n",
              "      <th>region_southeast</th>\n",
              "      <th>region_southwest</th>\n",
              "    </tr>\n",
              "  </thead>\n",
              "  <tbody>\n",
              "    <tr>\n",
              "      <th>0</th>\n",
              "      <td>19</td>\n",
              "      <td>27.900</td>\n",
              "      <td>0</td>\n",
              "      <td>16884.92400</td>\n",
              "      <td>1.0</td>\n",
              "      <td>0.0</td>\n",
              "      <td>0.0</td>\n",
              "      <td>1.0</td>\n",
              "      <td>0.0</td>\n",
              "      <td>0.0</td>\n",
              "      <td>0.0</td>\n",
              "      <td>1.0</td>\n",
              "    </tr>\n",
              "    <tr>\n",
              "      <th>1</th>\n",
              "      <td>18</td>\n",
              "      <td>33.770</td>\n",
              "      <td>1</td>\n",
              "      <td>1725.55230</td>\n",
              "      <td>0.0</td>\n",
              "      <td>1.0</td>\n",
              "      <td>1.0</td>\n",
              "      <td>0.0</td>\n",
              "      <td>0.0</td>\n",
              "      <td>0.0</td>\n",
              "      <td>1.0</td>\n",
              "      <td>0.0</td>\n",
              "    </tr>\n",
              "    <tr>\n",
              "      <th>2</th>\n",
              "      <td>28</td>\n",
              "      <td>33.000</td>\n",
              "      <td>3</td>\n",
              "      <td>4449.46200</td>\n",
              "      <td>0.0</td>\n",
              "      <td>1.0</td>\n",
              "      <td>1.0</td>\n",
              "      <td>0.0</td>\n",
              "      <td>0.0</td>\n",
              "      <td>0.0</td>\n",
              "      <td>1.0</td>\n",
              "      <td>0.0</td>\n",
              "    </tr>\n",
              "    <tr>\n",
              "      <th>3</th>\n",
              "      <td>33</td>\n",
              "      <td>22.705</td>\n",
              "      <td>0</td>\n",
              "      <td>21984.47061</td>\n",
              "      <td>0.0</td>\n",
              "      <td>1.0</td>\n",
              "      <td>1.0</td>\n",
              "      <td>0.0</td>\n",
              "      <td>0.0</td>\n",
              "      <td>1.0</td>\n",
              "      <td>0.0</td>\n",
              "      <td>0.0</td>\n",
              "    </tr>\n",
              "    <tr>\n",
              "      <th>4</th>\n",
              "      <td>32</td>\n",
              "      <td>28.880</td>\n",
              "      <td>0</td>\n",
              "      <td>3866.85520</td>\n",
              "      <td>0.0</td>\n",
              "      <td>1.0</td>\n",
              "      <td>1.0</td>\n",
              "      <td>0.0</td>\n",
              "      <td>0.0</td>\n",
              "      <td>1.0</td>\n",
              "      <td>0.0</td>\n",
              "      <td>0.0</td>\n",
              "    </tr>\n",
              "    <tr>\n",
              "      <th>...</th>\n",
              "      <td>...</td>\n",
              "      <td>...</td>\n",
              "      <td>...</td>\n",
              "      <td>...</td>\n",
              "      <td>...</td>\n",
              "      <td>...</td>\n",
              "      <td>...</td>\n",
              "      <td>...</td>\n",
              "      <td>...</td>\n",
              "      <td>...</td>\n",
              "      <td>...</td>\n",
              "      <td>...</td>\n",
              "    </tr>\n",
              "    <tr>\n",
              "      <th>1333</th>\n",
              "      <td>50</td>\n",
              "      <td>30.970</td>\n",
              "      <td>3</td>\n",
              "      <td>10600.54830</td>\n",
              "      <td>0.0</td>\n",
              "      <td>1.0</td>\n",
              "      <td>1.0</td>\n",
              "      <td>0.0</td>\n",
              "      <td>0.0</td>\n",
              "      <td>1.0</td>\n",
              "      <td>0.0</td>\n",
              "      <td>0.0</td>\n",
              "    </tr>\n",
              "    <tr>\n",
              "      <th>1334</th>\n",
              "      <td>18</td>\n",
              "      <td>31.920</td>\n",
              "      <td>0</td>\n",
              "      <td>2205.98080</td>\n",
              "      <td>1.0</td>\n",
              "      <td>0.0</td>\n",
              "      <td>1.0</td>\n",
              "      <td>0.0</td>\n",
              "      <td>1.0</td>\n",
              "      <td>0.0</td>\n",
              "      <td>0.0</td>\n",
              "      <td>0.0</td>\n",
              "    </tr>\n",
              "    <tr>\n",
              "      <th>1335</th>\n",
              "      <td>18</td>\n",
              "      <td>36.850</td>\n",
              "      <td>0</td>\n",
              "      <td>1629.83350</td>\n",
              "      <td>1.0</td>\n",
              "      <td>0.0</td>\n",
              "      <td>1.0</td>\n",
              "      <td>0.0</td>\n",
              "      <td>0.0</td>\n",
              "      <td>0.0</td>\n",
              "      <td>1.0</td>\n",
              "      <td>0.0</td>\n",
              "    </tr>\n",
              "    <tr>\n",
              "      <th>1336</th>\n",
              "      <td>21</td>\n",
              "      <td>25.800</td>\n",
              "      <td>0</td>\n",
              "      <td>2007.94500</td>\n",
              "      <td>1.0</td>\n",
              "      <td>0.0</td>\n",
              "      <td>1.0</td>\n",
              "      <td>0.0</td>\n",
              "      <td>0.0</td>\n",
              "      <td>0.0</td>\n",
              "      <td>0.0</td>\n",
              "      <td>1.0</td>\n",
              "    </tr>\n",
              "    <tr>\n",
              "      <th>1337</th>\n",
              "      <td>61</td>\n",
              "      <td>29.070</td>\n",
              "      <td>0</td>\n",
              "      <td>29141.36030</td>\n",
              "      <td>1.0</td>\n",
              "      <td>0.0</td>\n",
              "      <td>0.0</td>\n",
              "      <td>1.0</td>\n",
              "      <td>0.0</td>\n",
              "      <td>1.0</td>\n",
              "      <td>0.0</td>\n",
              "      <td>0.0</td>\n",
              "    </tr>\n",
              "  </tbody>\n",
              "</table>\n",
              "<p>1338 rows × 12 columns</p>\n",
              "</div>"
            ],
            "text/plain": [
              "      age     bmi  children      charges  sex_female  sex_male  smoker_no  \\\n",
              "0      19  27.900         0  16884.92400         1.0       0.0        0.0   \n",
              "1      18  33.770         1   1725.55230         0.0       1.0        1.0   \n",
              "2      28  33.000         3   4449.46200         0.0       1.0        1.0   \n",
              "3      33  22.705         0  21984.47061         0.0       1.0        1.0   \n",
              "4      32  28.880         0   3866.85520         0.0       1.0        1.0   \n",
              "...   ...     ...       ...          ...         ...       ...        ...   \n",
              "1333   50  30.970         3  10600.54830         0.0       1.0        1.0   \n",
              "1334   18  31.920         0   2205.98080         1.0       0.0        1.0   \n",
              "1335   18  36.850         0   1629.83350         1.0       0.0        1.0   \n",
              "1336   21  25.800         0   2007.94500         1.0       0.0        1.0   \n",
              "1337   61  29.070         0  29141.36030         1.0       0.0        0.0   \n",
              "\n",
              "      smoker_yes  region_northeast  region_northwest  region_southeast  \\\n",
              "0            1.0               0.0               0.0               0.0   \n",
              "1            0.0               0.0               0.0               1.0   \n",
              "2            0.0               0.0               0.0               1.0   \n",
              "3            0.0               0.0               1.0               0.0   \n",
              "4            0.0               0.0               1.0               0.0   \n",
              "...          ...               ...               ...               ...   \n",
              "1333         0.0               0.0               1.0               0.0   \n",
              "1334         0.0               1.0               0.0               0.0   \n",
              "1335         0.0               0.0               0.0               1.0   \n",
              "1336         0.0               0.0               0.0               0.0   \n",
              "1337         1.0               0.0               1.0               0.0   \n",
              "\n",
              "      region_southwest  \n",
              "0                  1.0  \n",
              "1                  0.0  \n",
              "2                  0.0  \n",
              "3                  0.0  \n",
              "4                  0.0  \n",
              "...                ...  \n",
              "1333               0.0  \n",
              "1334               0.0  \n",
              "1335               0.0  \n",
              "1336               1.0  \n",
              "1337               0.0  \n",
              "\n",
              "[1338 rows x 12 columns]"
            ]
          },
          "execution_count": 23,
          "metadata": {},
          "output_type": "execute_result"
        }
      ],
      "source": [
        "insurance_df"
      ]
    },
    {
      "cell_type": "markdown",
      "id": "b1011953",
      "metadata": {
        "id": "b1011953"
      },
      "source": [
        "#### NOTE:\n",
        "It was noticed that the categorical variables present in the dataset are all nominal, hence the need for One-Hot encoding. To encode the columns, the categorical variables were converted to numerical using pd.get_dummies(), ensuring the resulting variables are floats by assigning the data type to float.\n"
      ]
    },
    {
      "cell_type": "markdown",
      "id": "1e6f2b46",
      "metadata": {
        "id": "1e6f2b46"
      },
      "source": [
        "### STEP 2: Split data for training and testing\n"
      ]
    },
    {
      "cell_type": "code",
      "execution_count": null,
      "id": "72a76fdc",
      "metadata": {
        "id": "72a76fdc",
        "outputId": "8e39759c-b6b0-4248-d374-822449459522"
      },
      "outputs": [
        {
          "name": "stdout",
          "output_type": "stream",
          "text": [
            "(1070, 11)\n",
            "(268, 11)\n",
            "(1070,)\n",
            "(268,)\n"
          ]
        }
      ],
      "source": [
        "#Training the base model\n",
        "# spilt the dataset into train(80%) and test set(20%)\n",
        "\n",
        "y= insurance_df['charges'] #extracting the response/ dependenct variable\n",
        "X = insurance_df.drop(columns = ['charges']) # dropping charges column\n",
        "\n",
        "X_train, X_test, y_train, y_test = train_test_split(X,y, test_size = 0.2,random_state = 58)\n",
        "#percentage for testing is 20% and setting of random_state\n",
        "\n",
        "\n",
        "for i in[X_train, X_test, y_train, y_test]:\n",
        "    print(i.shape)"
      ]
    },
    {
      "cell_type": "code",
      "execution_count": null,
      "id": "25381389",
      "metadata": {
        "id": "25381389",
        "outputId": "4a986dbd-f390-42b2-d394-bbe4f161fca4"
      },
      "outputs": [
        {
          "data": {
            "text/plain": [
              "0       16884.92400\n",
              "1        1725.55230\n",
              "2        4449.46200\n",
              "3       21984.47061\n",
              "4        3866.85520\n",
              "           ...     \n",
              "1333    10600.54830\n",
              "1334     2205.98080\n",
              "1335     1629.83350\n",
              "1336     2007.94500\n",
              "1337    29141.36030\n",
              "Name: charges, Length: 1338, dtype: float64"
            ]
          },
          "execution_count": 60,
          "metadata": {},
          "output_type": "execute_result"
        }
      ],
      "source": [
        "y"
      ]
    },
    {
      "cell_type": "code",
      "execution_count": null,
      "id": "23ff3053",
      "metadata": {
        "id": "23ff3053",
        "outputId": "21a60c37-5aa2-4ed8-fc41-904115ab0933"
      },
      "outputs": [
        {
          "data": {
            "text/html": [
              "<div>\n",
              "<style scoped>\n",
              "    .dataframe tbody tr th:only-of-type {\n",
              "        vertical-align: middle;\n",
              "    }\n",
              "\n",
              "    .dataframe tbody tr th {\n",
              "        vertical-align: top;\n",
              "    }\n",
              "\n",
              "    .dataframe thead th {\n",
              "        text-align: right;\n",
              "    }\n",
              "</style>\n",
              "<table border=\"1\" class=\"dataframe\">\n",
              "  <thead>\n",
              "    <tr style=\"text-align: right;\">\n",
              "      <th></th>\n",
              "      <th>age</th>\n",
              "      <th>bmi</th>\n",
              "      <th>children</th>\n",
              "      <th>sex_female</th>\n",
              "      <th>sex_male</th>\n",
              "      <th>smoker_no</th>\n",
              "      <th>smoker_yes</th>\n",
              "      <th>region_northeast</th>\n",
              "      <th>region_northwest</th>\n",
              "      <th>region_southeast</th>\n",
              "      <th>region_southwest</th>\n",
              "    </tr>\n",
              "  </thead>\n",
              "  <tbody>\n",
              "    <tr>\n",
              "      <th>0</th>\n",
              "      <td>19</td>\n",
              "      <td>27.900</td>\n",
              "      <td>0</td>\n",
              "      <td>1.0</td>\n",
              "      <td>0.0</td>\n",
              "      <td>0.0</td>\n",
              "      <td>1.0</td>\n",
              "      <td>0.0</td>\n",
              "      <td>0.0</td>\n",
              "      <td>0.0</td>\n",
              "      <td>1.0</td>\n",
              "    </tr>\n",
              "    <tr>\n",
              "      <th>1</th>\n",
              "      <td>18</td>\n",
              "      <td>33.770</td>\n",
              "      <td>1</td>\n",
              "      <td>0.0</td>\n",
              "      <td>1.0</td>\n",
              "      <td>1.0</td>\n",
              "      <td>0.0</td>\n",
              "      <td>0.0</td>\n",
              "      <td>0.0</td>\n",
              "      <td>1.0</td>\n",
              "      <td>0.0</td>\n",
              "    </tr>\n",
              "    <tr>\n",
              "      <th>2</th>\n",
              "      <td>28</td>\n",
              "      <td>33.000</td>\n",
              "      <td>3</td>\n",
              "      <td>0.0</td>\n",
              "      <td>1.0</td>\n",
              "      <td>1.0</td>\n",
              "      <td>0.0</td>\n",
              "      <td>0.0</td>\n",
              "      <td>0.0</td>\n",
              "      <td>1.0</td>\n",
              "      <td>0.0</td>\n",
              "    </tr>\n",
              "    <tr>\n",
              "      <th>3</th>\n",
              "      <td>33</td>\n",
              "      <td>22.705</td>\n",
              "      <td>0</td>\n",
              "      <td>0.0</td>\n",
              "      <td>1.0</td>\n",
              "      <td>1.0</td>\n",
              "      <td>0.0</td>\n",
              "      <td>0.0</td>\n",
              "      <td>1.0</td>\n",
              "      <td>0.0</td>\n",
              "      <td>0.0</td>\n",
              "    </tr>\n",
              "    <tr>\n",
              "      <th>4</th>\n",
              "      <td>32</td>\n",
              "      <td>28.880</td>\n",
              "      <td>0</td>\n",
              "      <td>0.0</td>\n",
              "      <td>1.0</td>\n",
              "      <td>1.0</td>\n",
              "      <td>0.0</td>\n",
              "      <td>0.0</td>\n",
              "      <td>1.0</td>\n",
              "      <td>0.0</td>\n",
              "      <td>0.0</td>\n",
              "    </tr>\n",
              "    <tr>\n",
              "      <th>...</th>\n",
              "      <td>...</td>\n",
              "      <td>...</td>\n",
              "      <td>...</td>\n",
              "      <td>...</td>\n",
              "      <td>...</td>\n",
              "      <td>...</td>\n",
              "      <td>...</td>\n",
              "      <td>...</td>\n",
              "      <td>...</td>\n",
              "      <td>...</td>\n",
              "      <td>...</td>\n",
              "    </tr>\n",
              "    <tr>\n",
              "      <th>1333</th>\n",
              "      <td>50</td>\n",
              "      <td>30.970</td>\n",
              "      <td>3</td>\n",
              "      <td>0.0</td>\n",
              "      <td>1.0</td>\n",
              "      <td>1.0</td>\n",
              "      <td>0.0</td>\n",
              "      <td>0.0</td>\n",
              "      <td>1.0</td>\n",
              "      <td>0.0</td>\n",
              "      <td>0.0</td>\n",
              "    </tr>\n",
              "    <tr>\n",
              "      <th>1334</th>\n",
              "      <td>18</td>\n",
              "      <td>31.920</td>\n",
              "      <td>0</td>\n",
              "      <td>1.0</td>\n",
              "      <td>0.0</td>\n",
              "      <td>1.0</td>\n",
              "      <td>0.0</td>\n",
              "      <td>1.0</td>\n",
              "      <td>0.0</td>\n",
              "      <td>0.0</td>\n",
              "      <td>0.0</td>\n",
              "    </tr>\n",
              "    <tr>\n",
              "      <th>1335</th>\n",
              "      <td>18</td>\n",
              "      <td>36.850</td>\n",
              "      <td>0</td>\n",
              "      <td>1.0</td>\n",
              "      <td>0.0</td>\n",
              "      <td>1.0</td>\n",
              "      <td>0.0</td>\n",
              "      <td>0.0</td>\n",
              "      <td>0.0</td>\n",
              "      <td>1.0</td>\n",
              "      <td>0.0</td>\n",
              "    </tr>\n",
              "    <tr>\n",
              "      <th>1336</th>\n",
              "      <td>21</td>\n",
              "      <td>25.800</td>\n",
              "      <td>0</td>\n",
              "      <td>1.0</td>\n",
              "      <td>0.0</td>\n",
              "      <td>1.0</td>\n",
              "      <td>0.0</td>\n",
              "      <td>0.0</td>\n",
              "      <td>0.0</td>\n",
              "      <td>0.0</td>\n",
              "      <td>1.0</td>\n",
              "    </tr>\n",
              "    <tr>\n",
              "      <th>1337</th>\n",
              "      <td>61</td>\n",
              "      <td>29.070</td>\n",
              "      <td>0</td>\n",
              "      <td>1.0</td>\n",
              "      <td>0.0</td>\n",
              "      <td>0.0</td>\n",
              "      <td>1.0</td>\n",
              "      <td>0.0</td>\n",
              "      <td>1.0</td>\n",
              "      <td>0.0</td>\n",
              "      <td>0.0</td>\n",
              "    </tr>\n",
              "  </tbody>\n",
              "</table>\n",
              "<p>1338 rows × 11 columns</p>\n",
              "</div>"
            ],
            "text/plain": [
              "      age     bmi  children  sex_female  sex_male  smoker_no  smoker_yes  \\\n",
              "0      19  27.900         0         1.0       0.0        0.0         1.0   \n",
              "1      18  33.770         1         0.0       1.0        1.0         0.0   \n",
              "2      28  33.000         3         0.0       1.0        1.0         0.0   \n",
              "3      33  22.705         0         0.0       1.0        1.0         0.0   \n",
              "4      32  28.880         0         0.0       1.0        1.0         0.0   \n",
              "...   ...     ...       ...         ...       ...        ...         ...   \n",
              "1333   50  30.970         3         0.0       1.0        1.0         0.0   \n",
              "1334   18  31.920         0         1.0       0.0        1.0         0.0   \n",
              "1335   18  36.850         0         1.0       0.0        1.0         0.0   \n",
              "1336   21  25.800         0         1.0       0.0        1.0         0.0   \n",
              "1337   61  29.070         0         1.0       0.0        0.0         1.0   \n",
              "\n",
              "      region_northeast  region_northwest  region_southeast  region_southwest  \n",
              "0                  0.0               0.0               0.0               1.0  \n",
              "1                  0.0               0.0               1.0               0.0  \n",
              "2                  0.0               0.0               1.0               0.0  \n",
              "3                  0.0               1.0               0.0               0.0  \n",
              "4                  0.0               1.0               0.0               0.0  \n",
              "...                ...               ...               ...               ...  \n",
              "1333               0.0               1.0               0.0               0.0  \n",
              "1334               1.0               0.0               0.0               0.0  \n",
              "1335               0.0               0.0               1.0               0.0  \n",
              "1336               0.0               0.0               0.0               1.0  \n",
              "1337               0.0               1.0               0.0               0.0  \n",
              "\n",
              "[1338 rows x 11 columns]"
            ]
          },
          "execution_count": 61,
          "metadata": {},
          "output_type": "execute_result"
        }
      ],
      "source": [
        "X"
      ]
    },
    {
      "cell_type": "markdown",
      "id": "bde92c97",
      "metadata": {
        "id": "bde92c97"
      },
      "source": [
        "#### Note:\n",
        "Here, we extracted our dependent variable, 'charges', and saved it in the variable 'y'. Then, we removed the 'charges' column from our independent variables, 'X', which are our predictors. Next, we unpacked the outcome of the splitting function, including the random state and percentage of data for testing, into four variables: X_train, X_test, y_train, and y_test. To verify our process, we used a for loop to iterate through the list of the four variables and print the shape of each."
      ]
    },
    {
      "cell_type": "markdown",
      "id": "462ece44",
      "metadata": {
        "id": "462ece44"
      },
      "source": [
        "### STEP 3: Build Linear regression Model:"
      ]
    },
    {
      "cell_type": "code",
      "execution_count": null,
      "id": "d1cb4fb2",
      "metadata": {
        "id": "d1cb4fb2"
      },
      "outputs": [],
      "source": [
        "#Build linear Regression Model\n",
        "# Train the model\n",
        "modely = LinearRegression() # Initialise the model\n",
        "modely.fit(X_train, y_train) # fit the model on the train set\n",
        "y_preds = modely.predict(X_test) # use the model to compute predictions\n",
        "\n"
      ]
    },
    {
      "cell_type": "markdown",
      "id": "370d4c33",
      "metadata": {
        "id": "370d4c33"
      },
      "source": [
        "#### Note:\n",
        "In this section, we created a linear regression model by assigning it to the variable 'model'. Then, we fit the model to the training data using .fit() and predicted our dependent variable using the trained model."
      ]
    },
    {
      "cell_type": "code",
      "execution_count": null,
      "id": "0e0161b6",
      "metadata": {
        "id": "0e0161b6",
        "outputId": "cb5d6016-4962-40a6-9f29-a968174ac4a6"
      },
      "outputs": [
        {
          "name": "stdout",
          "output_type": "stream",
          "text": [
            "mse = 6233.4029907860595\n",
            "score = 0.7513383813280475\n"
          ]
        }
      ],
      "source": [
        "# Model Evaluation\n",
        "#R2square\n",
        "#MSE :\n",
        "\n",
        "mse = mean_squared_error(y_true = y_test, y_pred = y_preds, squared = False)\n",
        "score = r2_score(y_true = y_test,y_pred = y_preds)\n",
        "\n",
        "print(f'mse = {mse}')\n",
        "print(f'score = {score}')"
      ]
    },
    {
      "cell_type": "markdown",
      "id": "c46be5ae",
      "metadata": {
        "id": "c46be5ae"
      },
      "source": [
        "#### Note:\n",
        "We evaluated the model by calculating the mean absolute error (MAE) between the predicted variable (y_preds) and actual values (y_test), since we set squared=False. Additionally, we calculated the R-squared (R²) score, indicating model fit."
      ]
    },
    {
      "cell_type": "markdown",
      "id": "ea57ad09",
      "metadata": {
        "id": "ea57ad09"
      },
      "source": [
        "### STEP 4: Conclusion\n",
        "The result of the model evaluation revealed a Mean Absolute Error of approximately 6233.40 units, meaning the model predictions are off by about 6233.40 units on average. Also, the R² score of 0.7513 indicates that 75.13% of the variance in the dependent variable is explained by the model.\n",
        "\n",
        "##### Overall Performance\\;\n",
        "Although the model demonstrated a strong correlation between predicted and actual values, indicating a good fit, the average absolute error (6233.40 units) is relatively high, suggesting room for improvement.\n"
      ]
    },
    {
      "cell_type": "code",
      "execution_count": null,
      "id": "e0ffa675",
      "metadata": {
        "id": "e0ffa675"
      },
      "outputs": [],
      "source": []
    }
  ],
  "metadata": {
    "kernelspec": {
      "display_name": "Python 3 (ipykernel)",
      "language": "python",
      "name": "python3"
    },
    "language_info": {
      "codemirror_mode": {
        "name": "ipython",
        "version": 3
      },
      "file_extension": ".py",
      "mimetype": "text/x-python",
      "name": "python",
      "nbconvert_exporter": "python",
      "pygments_lexer": "ipython3",
      "version": "3.11.4"
    },
    "colab": {
      "provenance": [],
      "include_colab_link": true
    }
  },
  "nbformat": 4,
  "nbformat_minor": 5
}
